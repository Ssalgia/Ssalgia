{
 "cells": [
  {
   "cell_type": "markdown",
   "metadata": {},
   "source": [
    "# Logistic Regression Assignment\n",
    "\n",
    "- Run the below cells. If you have the data in a different directory, you'll need to change the url.\n",
    "- Complete all of the numbered questions. You may call any packages that we've used in class.  "
   ]
  },
  {
   "cell_type": "code",
   "execution_count": 1,
   "metadata": {},
   "outputs": [
    {
     "data": {
      "text/html": [
       "<div>\n",
       "<style scoped>\n",
       "    .dataframe tbody tr th:only-of-type {\n",
       "        vertical-align: middle;\n",
       "    }\n",
       "\n",
       "    .dataframe tbody tr th {\n",
       "        vertical-align: top;\n",
       "    }\n",
       "\n",
       "    .dataframe thead th {\n",
       "        text-align: right;\n",
       "    }\n",
       "</style>\n",
       "<table border=\"1\" class=\"dataframe\">\n",
       "  <thead>\n",
       "    <tr style=\"text-align: right;\">\n",
       "      <th></th>\n",
       "      <th>left_company</th>\n",
       "      <th>age</th>\n",
       "      <th>frequency_of_travel</th>\n",
       "      <th>department</th>\n",
       "      <th>commuting_distance</th>\n",
       "      <th>education</th>\n",
       "      <th>satisfaction_with_environment</th>\n",
       "      <th>gender</th>\n",
       "      <th>seniority_level</th>\n",
       "      <th>position</th>\n",
       "      <th>satisfaction_with_job</th>\n",
       "      <th>married_or_single</th>\n",
       "      <th>last_raise_pct</th>\n",
       "      <th>last_performance_rating</th>\n",
       "      <th>total_years_working</th>\n",
       "      <th>years_at_company</th>\n",
       "      <th>years_in_current_job</th>\n",
       "      <th>years_since_last_promotion</th>\n",
       "      <th>years_with_current_supervisor</th>\n",
       "    </tr>\n",
       "  </thead>\n",
       "  <tbody>\n",
       "    <tr>\n",
       "      <th>0</th>\n",
       "      <td>No</td>\n",
       "      <td>37</td>\n",
       "      <td>Travel_Rarely</td>\n",
       "      <td>Sales</td>\n",
       "      <td>16</td>\n",
       "      <td>4</td>\n",
       "      <td>4</td>\n",
       "      <td>Male</td>\n",
       "      <td>2</td>\n",
       "      <td>Sales Executive</td>\n",
       "      <td>3</td>\n",
       "      <td>Divorced</td>\n",
       "      <td>19</td>\n",
       "      <td>3</td>\n",
       "      <td>9</td>\n",
       "      <td>1</td>\n",
       "      <td>0</td>\n",
       "      <td>0</td>\n",
       "      <td>0</td>\n",
       "    </tr>\n",
       "    <tr>\n",
       "      <th>1</th>\n",
       "      <td>No</td>\n",
       "      <td>39</td>\n",
       "      <td>Travel_Rarely</td>\n",
       "      <td>Research &amp; Development</td>\n",
       "      <td>3</td>\n",
       "      <td>2</td>\n",
       "      <td>3</td>\n",
       "      <td>Male</td>\n",
       "      <td>2</td>\n",
       "      <td>Laboratory Technician</td>\n",
       "      <td>3</td>\n",
       "      <td>Divorced</td>\n",
       "      <td>15</td>\n",
       "      <td>3</td>\n",
       "      <td>11</td>\n",
       "      <td>10</td>\n",
       "      <td>8</td>\n",
       "      <td>0</td>\n",
       "      <td>7</td>\n",
       "    </tr>\n",
       "    <tr>\n",
       "      <th>2</th>\n",
       "      <td>No</td>\n",
       "      <td>52</td>\n",
       "      <td>Travel_Frequently</td>\n",
       "      <td>Research &amp; Development</td>\n",
       "      <td>25</td>\n",
       "      <td>4</td>\n",
       "      <td>3</td>\n",
       "      <td>Female</td>\n",
       "      <td>4</td>\n",
       "      <td>Manufacturing Director</td>\n",
       "      <td>4</td>\n",
       "      <td>Married</td>\n",
       "      <td>22</td>\n",
       "      <td>4</td>\n",
       "      <td>31</td>\n",
       "      <td>9</td>\n",
       "      <td>8</td>\n",
       "      <td>0</td>\n",
       "      <td>0</td>\n",
       "    </tr>\n",
       "    <tr>\n",
       "      <th>3</th>\n",
       "      <td>No</td>\n",
       "      <td>50</td>\n",
       "      <td>Non-Travel</td>\n",
       "      <td>Sales</td>\n",
       "      <td>1</td>\n",
       "      <td>3</td>\n",
       "      <td>4</td>\n",
       "      <td>Female</td>\n",
       "      <td>2</td>\n",
       "      <td>Sales Executive</td>\n",
       "      <td>3</td>\n",
       "      <td>Married</td>\n",
       "      <td>12</td>\n",
       "      <td>3</td>\n",
       "      <td>19</td>\n",
       "      <td>18</td>\n",
       "      <td>7</td>\n",
       "      <td>0</td>\n",
       "      <td>13</td>\n",
       "    </tr>\n",
       "    <tr>\n",
       "      <th>4</th>\n",
       "      <td>No</td>\n",
       "      <td>44</td>\n",
       "      <td>Travel_Rarely</td>\n",
       "      <td>Research &amp; Development</td>\n",
       "      <td>4</td>\n",
       "      <td>3</td>\n",
       "      <td>4</td>\n",
       "      <td>Male</td>\n",
       "      <td>2</td>\n",
       "      <td>Healthcare Representative</td>\n",
       "      <td>2</td>\n",
       "      <td>Single</td>\n",
       "      <td>12</td>\n",
       "      <td>3</td>\n",
       "      <td>10</td>\n",
       "      <td>5</td>\n",
       "      <td>2</td>\n",
       "      <td>2</td>\n",
       "      <td>3</td>\n",
       "    </tr>\n",
       "  </tbody>\n",
       "</table>\n",
       "</div>"
      ],
      "text/plain": [
       "  left_company  age frequency_of_travel              department  \\\n",
       "0           No   37       Travel_Rarely                   Sales   \n",
       "1           No   39       Travel_Rarely  Research & Development   \n",
       "2           No   52   Travel_Frequently  Research & Development   \n",
       "3           No   50          Non-Travel                   Sales   \n",
       "4           No   44       Travel_Rarely  Research & Development   \n",
       "\n",
       "   commuting_distance  education  satisfaction_with_environment  gender  \\\n",
       "0                  16          4                              4    Male   \n",
       "1                   3          2                              3    Male   \n",
       "2                  25          4                              3  Female   \n",
       "3                   1          3                              4  Female   \n",
       "4                   4          3                              4    Male   \n",
       "\n",
       "   seniority_level                   position  satisfaction_with_job  \\\n",
       "0                2            Sales Executive                      3   \n",
       "1                2      Laboratory Technician                      3   \n",
       "2                4     Manufacturing Director                      4   \n",
       "3                2            Sales Executive                      3   \n",
       "4                2  Healthcare Representative                      2   \n",
       "\n",
       "  married_or_single  last_raise_pct  last_performance_rating  \\\n",
       "0          Divorced              19                        3   \n",
       "1          Divorced              15                        3   \n",
       "2           Married              22                        4   \n",
       "3           Married              12                        3   \n",
       "4            Single              12                        3   \n",
       "\n",
       "   total_years_working  years_at_company  years_in_current_job  \\\n",
       "0                    9                 1                     0   \n",
       "1                   11                10                     8   \n",
       "2                   31                 9                     8   \n",
       "3                   19                18                     7   \n",
       "4                   10                 5                     2   \n",
       "\n",
       "   years_since_last_promotion  years_with_current_supervisor  \n",
       "0                           0                              0  \n",
       "1                           0                              7  \n",
       "2                           0                              0  \n",
       "3                           0                             13  \n",
       "4                           2                              3  "
      ]
     },
     "execution_count": 1,
     "metadata": {},
     "output_type": "execute_result"
    }
   ],
   "source": [
    "import pandas as pd\n",
    "import numpy as np\n",
    "import matplotlib.pyplot as plt\n",
    "%matplotlib inline\n",
    "\n",
    "employee_turnover = pd.read_csv('employee-turnover-balanced.csv')\n",
    "employee_turnover.head()"
   ]
  },
  {
   "cell_type": "markdown",
   "metadata": {},
   "source": [
    "## Data Definitions\n",
    "- `left_company`: Whether individual left the company or not. This is the target variable.  \n",
    "- `age`: Age of individual. \n",
    "- `frequency_of_travel`: How often person travels for work.  \n",
    "- `department`: Department person works(worked).  \n",
    "- `commuting_distance`: Distance person lives from office.  \n",
    "- `education`: Highest education category.  \n",
    "- `satisfaction_with_environment`: Satisfaction of environment, on lickert scale.  \n",
    "- `gender`: Gender of individual.  \n",
    "- `seniority_level`: Seniority level of individual.  \n",
    "- `position`: Last position held at the company.  \n",
    "- `satisfaction_with_job`: Satisfaction of their job, on lickert scale.  \n",
    "- `married_or_single`: Marital status of person.  \n",
    "- `last_raise_pct`: Percent increase their last raise represented.  \n",
    "- `last_performance_rating`: Most recent annual performance rating, on lickert scale.  \n",
    "- `total_years_working`: Number of years the individual has spent working in their career.  \n",
    "- `years_at_company`: Number of years the individual has been at the company, regardless of position.  \n",
    "- `years_in_current_job`: Number of years the individual has been in their current position.  \n",
    "- `years_since_last_promotion`: Years since the person had their last promotion.  \n",
    "- `years_with_current_supervisor`: Years the person has had their current supervisor."
   ]
  },
  {
   "cell_type": "markdown",
   "metadata": {},
   "source": [
    "# Question 1\n",
    "- What is the distribution of the target (`left_company`)?  \n",
    "- Do you have any concerns on class imbalances?"
   ]
  },
  {
   "cell_type": "code",
   "execution_count": 2,
   "metadata": {},
   "outputs": [
    {
     "name": "stdout",
     "output_type": "stream",
     "text": [
      "Records in training data: 800\n",
      "Records in test data: 200\n",
      "\n",
      "Features:\n",
      "age\n",
      "frequency_of_travel\n",
      "department\n",
      "commuting_distance\n",
      "education\n",
      "satisfaction_with_environment\n",
      "gender\n",
      "seniority_level\n",
      "position\n",
      "satisfaction_with_job\n",
      "married_or_single\n",
      "last_raise_pct\n",
      "last_performance_rating\n",
      "total_years_working\n",
      "years_at_company\n",
      "years_in_current_job\n",
      "years_since_last_promotion\n",
      "years_with_current_supervisor\n"
     ]
    }
   ],
   "source": [
    "# insert code\n",
    "from sklearn.model_selection import train_test_split\n",
    "features = [x for x in employee_turnover.columns if x != 'left_company']\n",
    "\n",
    "X = employee_turnover[features]\n",
    "y = employee_turnover['left_company']\n",
    "\n",
    "X_train, X_test, y_train, y_test = train_test_split(X, y, test_size=0.2, random_state=100)\n",
    "\n",
    "print(f'Records in training data: {X_train.shape[0]:,}')\n",
    "print(f'Records in test data: {X_test.shape[0]:,}')\n",
    "print('\\nFeatures:')\n",
    "print(*X_train.columns, sep='\\n')"
   ]
  },
  {
   "cell_type": "code",
   "execution_count": 3,
   "metadata": {},
   "outputs": [
    {
     "data": {
      "text/plain": [
       "array(['No', 'Yes'], dtype=object)"
      ]
     },
     "execution_count": 3,
     "metadata": {},
     "output_type": "execute_result"
    }
   ],
   "source": [
    "employee_turnover['left_company'].unique()"
   ]
  },
  {
   "cell_type": "code",
   "execution_count": 4,
   "metadata": {},
   "outputs": [],
   "source": [
    "#change dtype for left company\n",
    "employee_turnover = employee_turnover.astype({\"left_company\": str})\n"
   ]
  },
  {
   "cell_type": "code",
   "execution_count": 5,
   "metadata": {},
   "outputs": [
    {
     "data": {
      "image/png": "[encoded data removed]",
      "text/plain": [
       "<Figure size 432x288 with 1 Axes>"
      ]
     },
     "metadata": {
      "needs_background": "light"
     },
     "output_type": "display_data"
    }
   ],
   "source": [
    "employee_turnover['left_company'].hist(bins=10)\n",
    "plt.title('left_company distribution')\n",
    "plt.xlabel('yes/no')\n",
    "plt.ylabel('Number of People')\n",
    "plt.show()"
   ]
  },
  {
   "cell_type": "markdown",
   "metadata": {},
   "source": [
    "From the above plot it can be concluded that there will be no class imbalance problems when we would be performing classification as there are equal number of target labels, 500 each."
   ]
  },
  {
   "cell_type": "markdown",
   "metadata": {},
   "source": [
    "# Question 2\n",
    "- Create and print a list of the variables that you would treat as numerical and another list for the variables that you would treat as categorical.  \n",
    "- Explain your choices."
   ]
  },
  {
   "cell_type": "code",
   "execution_count": 6,
   "metadata": {
    "scrolled": true
   },
   "outputs": [
    {
     "data": {
      "text/plain": [
       "left_company                     object\n",
       "age                               int64\n",
       "frequency_of_travel              object\n",
       "department                       object\n",
       "commuting_distance                int64\n",
       "education                         int64\n",
       "satisfaction_with_environment     int64\n",
       "gender                           object\n",
       "seniority_level                   int64\n",
       "position                         object\n",
       "satisfaction_with_job             int64\n",
       "married_or_single                object\n",
       "last_raise_pct                    int64\n",
       "last_performance_rating           int64\n",
       "total_years_working               int64\n",
       "years_at_company                  int64\n",
       "years_in_current_job              int64\n",
       "years_since_last_promotion        int64\n",
       "years_with_current_supervisor     int64\n",
       "dtype: object"
      ]
     },
     "execution_count": 6,
     "metadata": {},
     "output_type": "execute_result"
    }
   ],
   "source": [
    "#check datatype \n",
    "employee_turnover.dtypes"
   ]
  },
  {
   "cell_type": "markdown",
   "metadata": {},
   "source": [
    "Based on the dataypes we will divide the object datatype variables into categorical and int datatype variables into numerical."
   ]
  },
  {
   "cell_type": "code",
   "execution_count": 7,
   "metadata": {},
   "outputs": [],
   "source": [
    "# employee_turnover2 = employee_turnover.drop(['left_company'], axis=1)\n",
    "# employee_turnover2"
   ]
  },
  {
   "cell_type": "code",
   "execution_count": 8,
   "metadata": {
    "scrolled": true
   },
   "outputs": [
    {
     "data": {
      "text/plain": [
       "['age',\n",
       " 'commuting_distance',\n",
       " 'education',\n",
       " 'satisfaction_with_environment',\n",
       " 'seniority_level',\n",
       " 'satisfaction_with_job',\n",
       " 'last_raise_pct',\n",
       " 'last_performance_rating',\n",
       " 'total_years_working',\n",
       " 'years_at_company',\n",
       " 'years_in_current_job',\n",
       " 'years_since_last_promotion',\n",
       " 'years_with_current_supervisor',\n",
       " 'frequency_of_travel',\n",
       " 'gender',\n",
       " 'married_or_single']"
      ]
     },
     "execution_count": 8,
     "metadata": {},
     "output_type": "execute_result"
    }
   ],
   "source": [
    "numerical_vars = ['age', 'commuting_distance', 'education', 'satisfaction_with_environment', 'seniority_level', 'satisfaction_with_job', 'last_raise_pct', 'last_performance_rating', 'total_years_working', 'years_at_company', 'years_in_current_job', 'years_since_last_promotion', 'years_with_current_supervisor', 'frequency_of_travel', 'gender', 'married_or_single']\n",
    "categorical_vars = ['department', 'position']\n",
    "# categorical_Vars = employee_turnover2.select_dtypes(include=\"object\").columns\n",
    "# numerical_vars = employee_turnover2.select_dtypes(exclude=\"object\").columns\n",
    "numerical_vars"
   ]
  },
  {
   "cell_type": "code",
   "execution_count": 9,
   "metadata": {
    "scrolled": false
   },
   "outputs": [
    {
     "data": {
      "text/plain": [
       "['department', 'position']"
      ]
     },
     "execution_count": 9,
     "metadata": {},
     "output_type": "execute_result"
    }
   ],
   "source": [
    "categorical_vars"
   ]
  },
  {
   "cell_type": "code",
   "execution_count": null,
   "metadata": {},
   "outputs": [],
   "source": []
  },
  {
   "cell_type": "markdown",
   "metadata": {},
   "source": [
    "# Question 3\n",
    "- Determine if any numerical variables risk multicolinearity.  \n",
    "- Remove those variables (if any) from your numerical_vars list.  \n",
    "- Why did you or did not remove any?"
   ]
  },
  {
   "cell_type": "code",
   "execution_count": 10,
   "metadata": {},
   "outputs": [
    {
     "data": {
      "text/plain": [
       "Sales Executive              223\n",
       "Laboratory Technician        211\n",
       "Research Scientist           206\n",
       "Sales Representative          82\n",
       "Manufacturing Director        80\n",
       "Healthcare Representative     74\n",
       "Manager                       55\n",
       "Human Resources               37\n",
       "Research Director             32\n",
       "Name: position, dtype: int64"
      ]
     },
     "execution_count": 10,
     "metadata": {},
     "output_type": "execute_result"
    }
   ],
   "source": [
    "#employee_turnover.gender.value_counts()\n",
    "#employee_turnover.frequency_of_travel.value_counts()\n",
    "#employee_turnover.married_or_single.value_counts()\n",
    "#employee_turnover.department.value_counts()\n",
    "employee_turnover.position.value_counts()"
   ]
  },
  {
   "cell_type": "code",
   "execution_count": 11,
   "metadata": {
    "scrolled": false
   },
   "outputs": [
    {
     "name": "stdout",
     "output_type": "stream",
     "text": [
      "                          feature        VIF\n",
      "0                             age  27.804800\n",
      "1              commuting_distance   2.447119\n",
      "2                       education   8.779774\n",
      "3   satisfaction_with_environment   6.178544\n",
      "4                 seniority_level  10.756412\n",
      "5           satisfaction_with_job   6.364285\n",
      "6                  last_raise_pct  40.572710\n",
      "7         last_performance_rating  84.084786\n",
      "8             total_years_working  11.682316\n",
      "9                years_at_company   9.756588\n",
      "10           years_in_current_job   7.770919\n",
      "11     years_since_last_promotion   2.631773\n",
      "12  years_with_current_supervisor   6.968768\n",
      "13            frequency_of_travel   5.680372\n",
      "14                         gender   1.749135\n",
      "15              married_or_single   2.244827\n"
     ]
    }
   ],
   "source": [
    "\n",
    " \n",
    "# # compare with each column\n",
    "# [vif(X.values, index) for index in range(len(numerical_vars))]\n",
    " \n",
    "# # Removing multicollinearity from the dataset using vif\n",
    "# from statsmodels.stats.outliers_influence import variance_inflation_factor as vif\n",
    " \n",
    "# # compare with each columns\n",
    "# for i in range(len(numerical_vars)):\n",
    "#     vif_list = [vif(X.values, index) for index in range(len(numerical_vars))]\n",
    "#     maxvif = max(vif_list)\n",
    "#     print(\"Max VIF value is \", maxvif)                     \n",
    "#     drop_index = vif_list.index(maxvif)\n",
    "#     print(\"For Independent variable\", numerical_vars[drop_index])\n",
    "    \n",
    "#     if maxvif > 10:\n",
    "        \n",
    "#         print(\"Deleting\", numerical_vars[drop_index])\n",
    "#         numerical_vars = numerical_vars.delete(drop_index)\n",
    "#         print(\"Final Independent_variables \", numerical_vars)\n",
    "\n",
    "\n",
    "# reference: https://www.geeksforgeeks.org/detecting-multicollinearity-with-vif-python/\n",
    "from statsmodels.stats.outliers_influence import variance_inflation_factor\n",
    "\n",
    "#converting gender,frequncy of travel and married_or_single to numerical data\n",
    "\n",
    "# creating dummies for gender\n",
    "employee_turnover['gender'] = employee_turnover['gender'].map({'Male':0, 'Female':1})\n",
    "# creating dummies for frequency_of_travel\n",
    "employee_turnover['frequency_of_travel'] = employee_turnover['frequency_of_travel'].map({'Non-Travel':0, 'Travel_Rarely':1, 'Travel_Frequently':2})\n",
    "# creating dummies for married_or_single\n",
    "employee_turnover['married_or_single'] = employee_turnover['married_or_single'].map({'Single':0, 'Married':1, 'Divorced':2})\n",
    "  \n",
    "# the numeric variables set\n",
    "X = employee_turnover[numerical_vars]\n",
    "  \n",
    "# VIF dataframe to calculate VIFs\n",
    "vif_data = pd.DataFrame()\n",
    "vif_data[\"feature\"] = X.columns\n",
    "  \n",
    "# calculating VIF for each feature\n",
    "vif_data[\"VIF\"] = [variance_inflation_factor(X.values, i)\n",
    "                          for i in range(len(X.columns))]\n",
    "  \n",
    "print(vif_data)"
   ]
  },
  {
   "cell_type": "markdown",
   "metadata": {},
   "source": [
    "From the above output we consider the 3 features who have the highest VIF values.\n",
    "1.last_performance_rating\n",
    "2.last_raise_pct\n",
    "3.age\n",
    "In this order. \n",
    "i.e.these variables have the highest risk of multicollinearity."
   ]
  },
  {
   "cell_type": "markdown",
   "metadata": {},
   "source": [
    "Let us drop these from the numerical_vars set."
   ]
  },
  {
   "cell_type": "code",
   "execution_count": 12,
   "metadata": {
    "scrolled": false
   },
   "outputs": [
    {
     "name": "stdout",
     "output_type": "stream",
     "text": [
      "                          feature        VIF\n",
      "0                             age  25.011899\n",
      "1              commuting_distance   2.440504\n",
      "2                       education   8.428847\n",
      "3   satisfaction_with_environment   5.824476\n",
      "4                 seniority_level  10.670318\n",
      "5           satisfaction_with_job   6.214206\n",
      "6                  last_raise_pct  13.095359\n",
      "7             total_years_working  11.388063\n",
      "8                years_at_company   9.746196\n",
      "9            years_in_current_job   7.740068\n",
      "10     years_since_last_promotion   2.628189\n",
      "11  years_with_current_supervisor   6.944214\n",
      "12            frequency_of_travel   5.093462\n",
      "13                         gender   1.735276\n",
      "14              married_or_single   2.240899\n"
     ]
    }
   ],
   "source": [
    "numerical_vars.remove('last_performance_rating')\n",
    "# the numeric variables set\n",
    "X = employee_turnover[numerical_vars]\n",
    "  \n",
    "# VIF dataframe\n",
    "vif_data = pd.DataFrame()\n",
    "vif_data[\"feature\"] = X.columns\n",
    "  \n",
    "# calculating VIF for each feature\n",
    "vif_data[\"VIF\"] = [variance_inflation_factor(X.values, i)\n",
    "                          for i in range(len(X.columns))]\n",
    "  \n",
    "print(vif_data)"
   ]
  },
  {
   "cell_type": "markdown",
   "metadata": {},
   "source": [
    "Here we see that the risk for age is the highest so we drop 'age'."
   ]
  },
  {
   "cell_type": "code",
   "execution_count": 13,
   "metadata": {},
   "outputs": [
    {
     "name": "stdout",
     "output_type": "stream",
     "text": [
      "                          feature        VIF\n",
      "0              commuting_distance   2.440123\n",
      "1                       education   7.733854\n",
      "2   satisfaction_with_environment   5.589054\n",
      "3                 seniority_level  10.580857\n",
      "4           satisfaction_with_job   5.790747\n",
      "5                  last_raise_pct  11.427433\n",
      "6             total_years_working   9.218345\n",
      "7                years_at_company   9.657833\n",
      "8            years_in_current_job   7.739936\n",
      "9      years_since_last_promotion   2.628077\n",
      "10  years_with_current_supervisor   6.944201\n",
      "11            frequency_of_travel   5.031148\n",
      "12                         gender   1.732018\n",
      "13              married_or_single   2.173337\n"
     ]
    }
   ],
   "source": [
    "numerical_vars.remove('age')\n",
    "# the numeric variables set\n",
    "X = employee_turnover[numerical_vars]\n",
    "  \n",
    "# VIF dataframe\n",
    "vif_data = pd.DataFrame()\n",
    "vif_data[\"feature\"] = X.columns\n",
    "  \n",
    "# calculating VIF for each feature\n",
    "vif_data[\"VIF\"] = [variance_inflation_factor(X.values, i)\n",
    "                          for i in range(len(X.columns))]\n",
    "  \n",
    "print(vif_data)"
   ]
  },
  {
   "cell_type": "code",
   "execution_count": 14,
   "metadata": {},
   "outputs": [
    {
     "name": "stdout",
     "output_type": "stream",
     "text": [
      "                          feature        VIF\n",
      "0              commuting_distance   2.358057\n",
      "1                       education   6.878753\n",
      "2   satisfaction_with_environment   5.034598\n",
      "3                 seniority_level  10.453781\n",
      "4           satisfaction_with_job   5.455665\n",
      "5             total_years_working   9.209864\n",
      "6                years_at_company   9.605374\n",
      "7            years_in_current_job   7.723103\n",
      "8      years_since_last_promotion   2.613043\n",
      "9   years_with_current_supervisor   6.858009\n",
      "10            frequency_of_travel   4.821304\n",
      "11                         gender   1.721624\n",
      "12              married_or_single   2.163672\n"
     ]
    }
   ],
   "source": [
    "numerical_vars.remove('last_raise_pct')\n",
    "# the numeric variables set\n",
    "X = employee_turnover[numerical_vars]\n",
    "  \n",
    "# VIF dataframe\n",
    "vif_data = pd.DataFrame()\n",
    "vif_data[\"feature\"] = X.columns\n",
    "  \n",
    "# calculating VIF for each feature\n",
    "vif_data[\"VIF\"] = [variance_inflation_factor(X.values, i)\n",
    "                          for i in range(len(X.columns))]\n",
    "  \n",
    "print(vif_data)"
   ]
  },
  {
   "cell_type": "code",
   "execution_count": 18,
   "metadata": {},
   "outputs": [
    {
     "data": {
      "text/plain": [
       "['commuting_distance',\n",
       " 'education',\n",
       " 'satisfaction_with_environment',\n",
       " 'seniority_level',\n",
       " 'satisfaction_with_job',\n",
       " 'total_years_working',\n",
       " 'years_at_company',\n",
       " 'years_in_current_job',\n",
       " 'years_since_last_promotion',\n",
       " 'years_with_current_supervisor',\n",
       " 'frequency_of_travel',\n",
       " 'gender',\n",
       " 'married_or_single']"
      ]
     },
     "execution_count": 18,
     "metadata": {},
     "output_type": "execute_result"
    }
   ],
   "source": [
    "numerical_vars"
   ]
  },
  {
   "cell_type": "markdown",
   "metadata": {},
   "source": [
    "# Question 4\n",
    "- Split the data into training and test sets.  \n",
    "- Use 20% of the data for test and a random state of 124.  "
   ]
  },
  {
   "cell_type": "code",
   "execution_count": 19,
   "metadata": {},
   "outputs": [
    {
     "name": "stdout",
     "output_type": "stream",
     "text": [
      "Training examples: 800\n",
      "Test examples: 200\n",
      "\n",
      "Features:\n",
      "age\n",
      "frequency_of_travel\n",
      "department\n",
      "commuting_distance\n",
      "education\n",
      "satisfaction_with_environment\n",
      "gender\n",
      "seniority_level\n",
      "position\n",
      "satisfaction_with_job\n",
      "married_or_single\n",
      "last_raise_pct\n",
      "last_performance_rating\n",
      "total_years_working\n",
      "years_at_company\n",
      "years_in_current_job\n",
      "years_since_last_promotion\n",
      "years_with_current_supervisor\n"
     ]
    }
   ],
   "source": [
    "from sklearn.model_selection import train_test_split\n",
    "\n",
    "def generate_splits():\n",
    "    y = employee_turnover['left_company']\n",
    "    X = employee_turnover[[x for x in employee_turnover.columns if x != 'left_company']]\n",
    "\n",
    "    return train_test_split(X, y, test_size=0.2, random_state=124)\n",
    "\n",
    "X_train, X_test, y_train, y_test = generate_splits()\n",
    "\n",
    "print(f'Training examples: {X_train.shape[0]:,}')\n",
    "print(f'Test examples: {X_test.shape[0]:,}')\n",
    "print('\\nFeatures:')\n",
    "print(*X_train.columns, sep='\\n')"
   ]
  },
  {
   "cell_type": "markdown",
   "metadata": {},
   "source": [
    "# Question 5\n",
    "- Create a pipeline to process the numerical data.  \n",
    "- Create a pipeline to process the categorical data.  \n",
    "\n",
    "Verify each pipeline contains the columns you would expect using a fit_transform on the training data, i.e., print the shapes of the fit_transforms for each pipeline."
   ]
  },
  {
   "cell_type": "code",
   "execution_count": 26,
   "metadata": {},
   "outputs": [
    {
     "data": {
      "text/plain": [
       "(800, 25)"
      ]
     },
     "execution_count": 26,
     "metadata": {},
     "output_type": "execute_result"
    }
   ],
   "source": [
    "#creating numerical and categorical data pipeline\n",
    "from sklearn.pipeline import Pipeline\n",
    "from sklearn.compose import ColumnTransformer\n",
    "from sklearn.preprocessing import StandardScaler\n",
    "from sklearn.impute import SimpleImputer\n",
    "from sklearn.preprocessing import PolynomialFeatures\n",
    "from sklearn.preprocessing import OneHotEncoder\n",
    "from sklearn.linear_model import LogisticRegression\n",
    "\n",
    "#numerical data pipeline\n",
    "numeric_transformer = Pipeline(\n",
    "    steps=[(\"imputer\", SimpleImputer(strategy=\"median\")), (\"scaler\", StandardScaler())]\n",
    ")\n",
    "\n",
    "#categorical data pipeline\n",
    "categorical_transformer = OneHotEncoder(handle_unknown=\"ignore\")\n",
    "\n",
    "preprocessor = ColumnTransformer(\n",
    "    transformers=[\n",
    "        (\"num\", numeric_transformer,numerical_vars ),\n",
    "        (\"cat\", categorical_transformer, categorical_vars),\n",
    "    ]\n",
    ")\n",
    "\n",
    "#verifying \n",
    "processing_pipeline = ColumnTransformer(transformers=[('proc_numeric', numeric_transformer, numerical_vars), ('create_dummies', categorical_transformer, categorical_vars)])\n",
    "processing_pipeline.fit_transform(X_train, y_train)\n",
    "\n",
    "#using fit-transform to print shape\n",
    "processing_pipeline.fit_transform(X_train, y_train).shape\n",
    "\n",
    "# # Defining the steps in the categorical pipeline\n",
    "# categorical_pipeline = Pipeline(steps=[\n",
    "#     ('categorical_transformer', CategoricalTransformer()),\n",
    "#     ('one_hot_encoder', OneHotEncoder(sparse=False))])\n",
    "\n",
    "# # Defining the steps in the numerical pipeline\n",
    "# numerical_pipeline = Pipeline(steps=[\n",
    "#     ('numeric_transformer', NumericalTransformer()),\n",
    "#     ('imputer', SimpleImputer(strategy='median')),\n",
    "#     ('std_scaler', StandardScaler())])\n",
    "\n",
    "# # Combining numerical and categorical pipeline into one full big pipeline horizontally\n",
    "# # using FeatureUnion\n",
    "# union_pipeline = FeatureUnion(transformer_list=[\n",
    "#     ('categorical_pipeline', categorical_pipeline),\n",
    "#     ('numerical_pipeline', numerical_pipeline)])\n",
    "\n",
    "# # Combining the custom imputer with the categorical and numerical pipeline\n",
    "# preprocess_pipeline = Pipeline(steps=[('custom_imputer', CustomImputer()),\n",
    "#                                       ('full_pipeline', union_pipeline)])\n",
    "\n"
   ]
  },
  {
   "cell_type": "markdown",
   "metadata": {},
   "source": [
    "# Question 6\n",
    "- Create a pipeline that combines the pre-processing and implements a logistic regression model.  \n",
    "- Print the accuracy on the training set and the test set.\n",
    "- Do you have any concerns of overfitting based on the differences between the two accuracy scores?"
   ]
  },
  {
   "cell_type": "code",
   "execution_count": 27,
   "metadata": {},
   "outputs": [
    {
     "name": "stderr",
     "output_type": "stream",
     "text": [
      "/Users/shreya/opt/anaconda3/lib/python3.8/site-packages/sklearn/linear_model/_logistic.py:763: ConvergenceWarning: lbfgs failed to converge (status=1):\n",
      "STOP: TOTAL NO. of ITERATIONS REACHED LIMIT.\n",
      "\n",
      "Increase the number of iterations (max_iter) or scale the data as shown in:\n",
      "    https://scikit-learn.org/stable/modules/preprocessing.html\n",
      "Please also refer to the documentation for alternative solver options:\n",
      "    https://scikit-learn.org/stable/modules/linear_model.html#logistic-regression\n",
      "  n_iter_i = _check_optimize_result(\n"
     ]
    },
    {
     "data": {
      "text/plain": [
       "Pipeline(steps=[('data_processing',\n",
       "                 ColumnTransformer(transformers=[('proc_numeric',\n",
       "                                                  Pipeline(steps=[('imputer',\n",
       "                                                                   SimpleImputer(strategy='median')),\n",
       "                                                                  ('scaler',\n",
       "                                                                   StandardScaler())]),\n",
       "                                                  ['commuting_distance',\n",
       "                                                   'education',\n",
       "                                                   'satisfaction_with_environment',\n",
       "                                                   'seniority_level',\n",
       "                                                   'satisfaction_with_job',\n",
       "                                                   'total_years_working',\n",
       "                                                   'years_at_company',\n",
       "                                                   'years_in_current_job',\n",
       "                                                   'years_since_last_promotion',\n",
       "                                                   'years_with_current_supervisor',\n",
       "                                                   'frequency_of_travel',\n",
       "                                                   'gender',\n",
       "                                                   'married_or_single']),\n",
       "                                                 ('create_dummies',\n",
       "                                                  OneHotEncoder(handle_unknown='ignore'),\n",
       "                                                  ['department',\n",
       "                                                   'position'])])),\n",
       "                ('logreg', LogisticRegression(penalty='none'))])"
      ]
     },
     "execution_count": 27,
     "metadata": {},
     "output_type": "execute_result"
    }
   ],
   "source": [
    "from sklearn.linear_model import LogisticRegression\n",
    "\n",
    "modeling_pipeline = Pipeline([('data_processing', processing_pipeline), ('logreg', LogisticRegression(penalty='none'))])\n",
    "modeling_pipeline.fit(X_train, y_train)"
   ]
  },
  {
   "cell_type": "markdown",
   "metadata": {},
   "source": [
    "Insert comments here"
   ]
  },
  {
   "cell_type": "code",
   "execution_count": 30,
   "metadata": {},
   "outputs": [
    {
     "data": {
      "text/plain": [
       "0.7214350316551099"
      ]
     },
     "execution_count": 30,
     "metadata": {},
     "output_type": "execute_result"
    }
   ],
   "source": [
    "#accuracy for the test dataset\n",
    "from sklearn.metrics import roc_auc_score\n",
    "\n",
    "def generate_probs(X, model=modeling_pipeline):\n",
    "    return model.predict_proba(X)[:, 1]\n",
    "\n",
    "test_scores=roc_auc_score(y_test, generate_probs(X_test))"
   ]
  },
  {
   "cell_type": "code",
   "execution_count": 31,
   "metadata": {},
   "outputs": [
    {
     "data": {
      "text/plain": [
       "0.7806890860325975"
      ]
     },
     "execution_count": 31,
     "metadata": {},
     "output_type": "execute_result"
    }
   ],
   "source": [
    "#accuracy for train dataset\n",
    "train_scores=roc_auc_score(y_train, generate_probs(X_train))"
   ]
  },
  {
   "cell_type": "markdown",
   "metadata": {},
   "source": [
    "If the model performs better on the training set than on the test set, it means that the model is likely overfitting. So from the above accuracy calculations the model is overfitting."
   ]
  },
  {
   "cell_type": "markdown",
   "metadata": {},
   "source": [
    "# Question 7\n",
    "What would you recommend as potential next steps for continuing to develop and evaluate a model?"
   ]
  },
  {
   "cell_type": "markdown",
   "metadata": {},
   "source": [
    "Insert comments here"
   ]
  },
  {
   "cell_type": "markdown",
   "metadata": {},
   "source": [
    "To resolve the overfitting issue there can be a few logical solutions.\n",
    "1.Training with more data.\n",
    "https://corporatefinanceinstitute.com/resources/knowledge/other/overfitting/\n",
    "2.Maybe reduce the complexity of the dataset, reduce the number of features.\n",
    "3.Ridge or L2 regularization can be done in order to create hyperparameters."
   ]
  }
 ],
 "metadata": {
  "kernelspec": {
   "display_name": "Python 3",
   "language": "python",
   "name": "python3"
  },
  "language_info": {
   "codemirror_mode": {
    "name": "ipython",
    "version": 3
   },
   "file_extension": ".py",
   "mimetype": "text/x-python",
   "name": "python",
   "nbconvert_exporter": "python",
   "pygments_lexer": "ipython3",
   "version": "3.8.8"
  }
 },
 "nbformat": 4,
 "nbformat_minor": 4
}
